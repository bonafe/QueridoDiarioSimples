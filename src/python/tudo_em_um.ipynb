{
 "cells": [
  {
   "cell_type": "code",
   "execution_count": null,
   "id": "8578f046-a327-41ca-9241-493e78f23949",
   "metadata": {},
   "outputs": [],
   "source": [
    "import requests\n",
    "\n",
    "def baixar_pdf(url, caminho_arquivo):\n",
    "    resposta = requests.get(url)\n",
    "    if resposta.status_code == 200:\n",
    "        with open(caminho_arquivo, 'wb') as arquivo:\n",
    "            arquivo.write(resposta.content)\n",
    "        print(f\"PDF baixado com sucesso e salvo em {caminho_arquivo}\")\n",
    "    else:\n",
    "        print(f\"Falha ao baixar o PDF. Status code: {resposta.status_code}\")\n",
    "\n",
    "# Exemplo de uso\n",
    "url_pdf = 'https://www-storage.voxtecnologia.com.br/?m=sigpub.publicacao&f=17081&i=publicado_101948_2024-09-30_9e35e36e0024b3a6877570bc27cd8a55.pdf'\n",
    "caminho_para_salvar = 'meu_pdf_baixado.pdf'\n",
    "baixar_pdf(url_pdf, caminho_para_salvar)\n"
   ]
  },
  {
   "cell_type": "code",
   "execution_count": null,
   "id": "62be4ad6-b624-4a93-8fcf-62f6be1e14f4",
   "metadata": {},
   "outputs": [],
   "source": [
    "from tika import parser\n",
    "\n",
    "def extrair_texto_pdf(caminho_pdf):\n",
    "    parsed = parser.from_file(caminho_pdf)\n",
    "    texto = parsed.get('content', '')\n",
    "    return texto\n",
    "\n",
    "# Exemplo de uso\n",
    "caminho_pdf = 'meu_pdf_baixado.pdf'\n",
    "texto_extraido = extrair_texto_pdf(caminho_pdf)\n",
    "print(texto_extraido)\n"
   ]
  },
  {
   "cell_type": "code",
   "execution_count": 15,
   "id": "257c5420-070d-4a00-b72b-50d1539e7ae5",
   "metadata": {},
   "outputs": [
    {
     "name": "stdout",
     "output_type": "stream",
     "text": [
      "Texto salvo com sucesso em texto_extraido.txt\n"
     ]
    }
   ],
   "source": [
    "def salvar_texto_em_arquivo(texto, caminho_arquivo):\n",
    "    with open(caminho_arquivo, 'w', encoding='utf-8') as arquivo:\n",
    "        arquivo.write(texto)\n",
    "    print(f\"Texto salvo com sucesso em {caminho_arquivo}\")\n",
    "\n",
    "\n",
    "caminho_para_arquivo_texto = 'texto_extraido.txt'\n",
    "salvar_texto_em_arquivo(texto_extraido, caminho_para_arquivo_texto)\n"
   ]
  },
  {
   "cell_type": "code",
   "execution_count": 20,
   "id": "20477523-9418-4670-a4c7-020f84c6c351",
   "metadata": {},
   "outputs": [
    {
     "data": {
      "text/plain": [
       "2"
      ]
     },
     "execution_count": 20,
     "metadata": {},
     "output_type": "execute_result"
    }
   ],
   "source": [
    "import re\n",
    "\n",
    "def separar_blocos_por_titulo(texto):\n",
    "    padrao = r\"(Estado de Roraima\\s+Prefeitura Municipal de\\s+[^\\n]+)\\n+(.+?)(?=Estado de Roraima\\s+Prefeitura Municipal de|$)\"\n",
    "    blocos = re.findall(padrao, texto, flags=re.DOTALL | re.IGNORECASE)\n",
    "    return blocos\n",
    "\n",
    "len(separar_blocos_por_titulo (texto_extraido))"
   ]
  }
 ],
 "metadata": {
  "kernelspec": {
   "display_name": "Python 3 (ipykernel)",
   "language": "python",
   "name": "python3"
  },
  "language_info": {
   "codemirror_mode": {
    "name": "ipython",
    "version": 3
   },
   "file_extension": ".py",
   "mimetype": "text/x-python",
   "name": "python",
   "nbconvert_exporter": "python",
   "pygments_lexer": "ipython3",
   "version": "3.11.7"
  }
 },
 "nbformat": 4,
 "nbformat_minor": 5
}
